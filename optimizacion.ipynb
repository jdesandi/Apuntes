{
 "cells": [
  {
   "cell_type": "code",
   "execution_count": 1,
   "metadata": {},
   "outputs": [],
   "source": [
    "%matplotlib notebook\n",
    "import matplotlib.pyplot as plt\n",
    "\n",
    "from sympy import *\n",
    "init_printing()"
   ]
  },
  {
   "cell_type": "code",
   "execution_count": 6,
   "metadata": {},
   "outputs": [
    {
     "data": {
      "image/png": "[encoded data removed]",
      "text/latex": [
       "$$\\left ( x, \\quad y\\right )$$"
      ],
      "text/plain": [
       "(x, y)"
      ]
     },
     "execution_count": 6,
     "metadata": {},
     "output_type": "execute_result"
    }
   ],
   "source": [
    "x,y =var(\"x y\")\n",
    "x,y"
   ]
  },
  {
   "cell_type": "code",
   "execution_count": 26,
   "metadata": {},
   "outputs": [
    {
     "data": {
      "application/javascript": [
       "/* Put everything inside the global mpl namespace */\n",
       "window.mpl = {};\n",
       "\n",
       "\n",
       "mpl.get_websocket_type = function() {\n",
       "    if (typeof(WebSocket) !== 'undefined') {\n",
       "        return WebSocket;\n",
       "    } else if (typeof(MozWebSocket) !== 'undefined') {\n",
       "        return MozWebSocket;\n",
       "    } else {\n",
       "        alert('Your browser does not have WebSocket support.' +\n",
       "              'Please try Chrome, Safari or Firefox ≥ 6. ' +\n",
       "              'Firefox 4 and 5 are also supported but you ' +\n",
       "              'have to enable WebSockets in about:config.');\n",
       "    };\n",
       "}\n",
       "\n",
       "mpl.figure = function(figure_id, websocket, ondownload, parent_element) {\n",
       "    this.id = figure_id;\n",
       "\n",
       "    this.ws = websocket;\n",
       "\n",
       "    this.supports_binary = (this.ws.binaryType != undefined);\n",
       "\n",
       "    if (!this.supports_binary) {\n",
       "        var warnings = document.getElementById(\"mpl-warnings\");\n",
       "        if (warnings) {\n",
       "            warnings.style.display = 'block';\n",
       "            warnings.textContent = (\n",
       "                \"This browser does not support binary websocket messages. \" +\n",
       "                    \"Performance may be slow.\");\n",
       "        }\n",
       "    }\n",
       "\n",
       "    this.imageObj = new Image();\n",
       "\n",
       "    this.context = undefined;\n",
       "    this.message = undefined;\n",
       "    this.canvas = undefined;\n",
       "    this.rubberband_canvas = undefined;\n",
       "    this.rubberband_context = undefined;\n",
       "    this.format_dropdown = undefined;\n",
       "\n",
       "    this.image_mode = 'full';\n",
       "\n",
       "    this.root = $('<div/>');\n",
       "    this._root_extra_style(this.root)\n",
       "    this.root.attr('style', 'display: inline-block');\n",
       "\n",
       "    $(parent_element).append(this.root);\n",
       "\n",
       "    this._init_header(this);\n",
       "    this._init_canvas(this);\n",
       "    this._init_toolbar(this);\n",
       "\n",
       "    var fig = this;\n",
       "\n",
       "    this.waiting = false;\n",
       "\n",
       "    this.ws.onopen =  function () {\n",
       "            fig.send_message(\"supports_binary\", {value: fig.supports_binary});\n",
       "            fig.send_message(\"send_image_mode\", {});\n",
       "            if (mpl.ratio != 1) {\n",
       "                fig.send_message(\"set_dpi_ratio\", {'dpi_ratio': mpl.ratio});\n",
       "            }\n",
       "            fig.send_message(\"refresh\", {});\n",
       "        }\n",
       "\n",
       "    this.imageObj.onload = function() {\n",
       "            if (fig.image_mode == 'full') {\n",
       "                // Full images could contain transparency (where diff images\n",
       "                // almost always do), so we need to clear the canvas so that\n",
       "                // there is no ghosting.\n",
       "                fig.context.clearRect(0, 0, fig.canvas.width, fig.canvas.height);\n",
       "            }\n",
       "            fig.context.drawImage(fig.imageObj, 0, 0);\n",
       "        };\n",
       "\n",
       "    this.imageObj.onunload = function() {\n",
       "        fig.ws.close();\n",
       "    }\n",
       "\n",
       "    this.ws.onmessage = this._make_on_message_function(this);\n",
       "\n",
       "    this.ondownload = ondownload;\n",
       "}\n",
       "\n",
       "mpl.figure.prototype._init_header = function() {\n",
       "    var titlebar = $(\n",
       "        '<div class=\"ui-dialog-titlebar ui-widget-header ui-corner-all ' +\n",
       "        'ui-helper-clearfix\"/>');\n",
       "    var titletext = $(\n",
       "        '<div class=\"ui-dialog-title\" style=\"width: 100%; ' +\n",
       "        'text-align: center; padding: 3px;\"/>');\n",
       "    titlebar.append(titletext)\n",
       "    this.root.append(titlebar);\n",
       "    this.header = titletext[0];\n",
       "}\n",
       "\n",
       "\n",
       "\n",
       "mpl.figure.prototype._canvas_extra_style = function(canvas_div) {\n",
       "\n",
       "}\n",
       "\n",
       "\n",
       "mpl.figure.prototype._root_extra_style = function(canvas_div) {\n",
       "\n",
       "}\n",
       "\n",
       "mpl.figure.prototype._init_canvas = function() {\n",
       "    var fig = this;\n",
       "\n",
       "    var canvas_div = $('<div/>');\n",
       "\n",
       "    canvas_div.attr('style', 'position: relative; clear: both; outline: 0');\n",
       "\n",
       "    function canvas_keyboard_event(event) {\n",
       "        return fig.key_event(event, event['data']);\n",
       "    }\n",
       "\n",
       "    canvas_div.keydown('key_press', canvas_keyboard_event);\n",
       "    canvas_div.keyup('key_release', canvas_keyboard_event);\n",
       "    this.canvas_div = canvas_div\n",
       "    this._canvas_extra_style(canvas_div)\n",
       "    this.root.append(canvas_div);\n",
       "\n",
       "    var canvas = $('<canvas/>');\n",
       "    canvas.addClass('mpl-canvas');\n",
       "    canvas.attr('style', \"left: 0; top: 0; z-index: 0; outline: 0\")\n",
       "\n",
       "    this.canvas = canvas[0];\n",
       "    this.context = canvas[0].getContext(\"2d\");\n",
       "\n",
       "    var backingStore = this.context.backingStorePixelRatio ||\n",
       "\tthis.context.webkitBackingStorePixelRatio ||\n",
       "\tthis.context.mozBackingStorePixelRatio ||\n",
       "\tthis.context.msBackingStorePixelRatio ||\n",
       "\tthis.context.oBackingStorePixelRatio ||\n",
       "\tthis.context.backingStorePixelRatio || 1;\n",
       "\n",
       "    mpl.ratio = (window.devicePixelRatio || 1) / backingStore;\n",
       "\n",
       "    var rubberband = $('<canvas/>');\n",
       "    rubberband.attr('style', \"position: absolute; left: 0; top: 0; z-index: 1;\")\n",
       "\n",
       "    var pass_mouse_events = true;\n",
       "\n",
       "    canvas_div.resizable({\n",
       "        start: function(event, ui) {\n",
       "            pass_mouse_events = false;\n",
       "        },\n",
       "        resize: function(event, ui) {\n",
       "            fig.request_resize(ui.size.width, ui.size.height);\n",
       "        },\n",
       "        stop: function(event, ui) {\n",
       "            pass_mouse_events = true;\n",
       "            fig.request_resize(ui.size.width, ui.size.height);\n",
       "        },\n",
       "    });\n",
       "\n",
       "    function mouse_event_fn(event) {\n",
       "        if (pass_mouse_events)\n",
       "            return fig.mouse_event(event, event['data']);\n",
       "    }\n",
       "\n",
       "    rubberband.mousedown('button_press', mouse_event_fn);\n",
       "    rubberband.mouseup('button_release', mouse_event_fn);\n",
       "    // Throttle sequential mouse events to 1 every 20ms.\n",
       "    rubberband.mousemove('motion_notify', mouse_event_fn);\n",
       "\n",
       "    rubberband.mouseenter('figure_enter', mouse_event_fn);\n",
       "    rubberband.mouseleave('figure_leave', mouse_event_fn);\n",
       "\n",
       "    canvas_div.on(\"wheel\", function (event) {\n",
       "        event = event.originalEvent;\n",
       "        event['data'] = 'scroll'\n",
       "        if (event.deltaY < 0) {\n",
       "            event.step = 1;\n",
       "        } else {\n",
       "            event.step = -1;\n",
       "        }\n",
       "        mouse_event_fn(event);\n",
       "    });\n",
       "\n",
       "    canvas_div.append(canvas);\n",
       "    canvas_div.append(rubberband);\n",
       "\n",
       "    this.rubberband = rubberband;\n",
       "    this.rubberband_canvas = rubberband[0];\n",
       "    this.rubberband_context = rubberband[0].getContext(\"2d\");\n",
       "    this.rubberband_context.strokeStyle = \"#000000\";\n",
       "\n",
       "    this._resize_canvas = function(width, height) {\n",
       "        // Keep the size of the canvas, canvas container, and rubber band\n",
       "        // canvas in synch.\n",
       "        canvas_div.css('width', width)\n",
       "        canvas_div.css('height', height)\n",
       "\n",
       "        canvas.attr('width', width * mpl.ratio);\n",
       "        canvas.attr('height', height * mpl.ratio);\n",
       "        canvas.attr('style', 'width: ' + width + 'px; height: ' + height + 'px;');\n",
       "\n",
       "        rubberband.attr('width', width);\n",
       "        rubberband.attr('height', height);\n",
       "    }\n",
       "\n",
       "    // Set the figure to an initial 600x600px, this will subsequently be updated\n",
       "    // upon first draw.\n",
       "    this._resize_canvas(600, 600);\n",
       "\n",
       "    // Disable right mouse context menu.\n",
       "    $(this.rubberband_canvas).bind(\"contextmenu\",function(e){\n",
       "        return false;\n",
       "    });\n",
       "\n",
       "    function set_focus () {\n",
       "        canvas.focus();\n",
       "        canvas_div.focus();\n",
       "    }\n",
       "\n",
       "    window.setTimeout(set_focus, 100);\n",
       "}\n",
       "\n",
       "mpl.figure.prototype._init_toolbar = function() {\n",
       "    var fig = this;\n",
       "\n",
       "    var nav_element = $('<div/>')\n",
       "    nav_element.attr('style', 'width: 100%');\n",
       "    this.root.append(nav_element);\n",
       "\n",
       "    // Define a callback function for later on.\n",
       "    function toolbar_event(event) {\n",
       "        return fig.toolbar_button_onclick(event['data']);\n",
       "    }\n",
       "    function toolbar_mouse_event(event) {\n",
       "        return fig.toolbar_button_onmouseover(event['data']);\n",
       "    }\n",
       "\n",
       "    for(var toolbar_ind in mpl.toolbar_items) {\n",
       "        var name = mpl.toolbar_items[toolbar_ind][0];\n",
       "        var tooltip = mpl.toolbar_items[toolbar_ind][1];\n",
       "        var image = mpl.toolbar_items[toolbar_ind][2];\n",
       "        var method_name = mpl.toolbar_items[toolbar_ind][3];\n",
       "\n",
       "        if (!name) {\n",
       "            // put a spacer in here.\n",
       "            continue;\n",
       "        }\n",
       "        var button = $('<button/>');\n",
       "        button.addClass('ui-button ui-widget ui-state-default ui-corner-all ' +\n",
       "                        'ui-button-icon-only');\n",
       "        button.attr('role', 'button');\n",
       "        button.attr('aria-disabled', 'false');\n",
       "        button.click(method_name, toolbar_event);\n",
       "        button.mouseover(tooltip, toolbar_mouse_event);\n",
       "\n",
       "        var icon_img = $('<span/>');\n",
       "        icon_img.addClass('ui-button-icon-primary ui-icon');\n",
       "        icon_img.addClass(image);\n",
       "        icon_img.addClass('ui-corner-all');\n",
       "\n",
       "        var tooltip_span = $('<span/>');\n",
       "        tooltip_span.addClass('ui-button-text');\n",
       "        tooltip_span.html(tooltip);\n",
       "\n",
       "        button.append(icon_img);\n",
       "        button.append(tooltip_span);\n",
       "\n",
       "        nav_element.append(button);\n",
       "    }\n",
       "\n",
       "    var fmt_picker_span = $('<span/>');\n",
       "\n",
       "    var fmt_picker = $('<select/>');\n",
       "    fmt_picker.addClass('mpl-toolbar-option ui-widget ui-widget-content');\n",
       "    fmt_picker_span.append(fmt_picker);\n",
       "    nav_element.append(fmt_picker_span);\n",
       "    this.format_dropdown = fmt_picker[0];\n",
       "\n",
       "    for (var ind in mpl.extensions) {\n",
       "        var fmt = mpl.extensions[ind];\n",
       "        var option = $(\n",
       "            '<option/>', {selected: fmt === mpl.default_extension}).html(fmt);\n",
       "        fmt_picker.append(option)\n",
       "    }\n",
       "\n",
       "    // Add hover states to the ui-buttons\n",
       "    $( \".ui-button\" ).hover(\n",
       "        function() { $(this).addClass(\"ui-state-hover\");},\n",
       "        function() { $(this).removeClass(\"ui-state-hover\");}\n",
       "    );\n",
       "\n",
       "    var status_bar = $('<span class=\"mpl-message\"/>');\n",
       "    nav_element.append(status_bar);\n",
       "    this.message = status_bar[0];\n",
       "}\n",
       "\n",
       "mpl.figure.prototype.request_resize = function(x_pixels, y_pixels) {\n",
       "    // Request matplotlib to resize the figure. Matplotlib will then trigger a resize in the client,\n",
       "    // which will in turn request a refresh of the image.\n",
       "    this.send_message('resize', {'width': x_pixels, 'height': y_pixels});\n",
       "}\n",
       "\n",
       "mpl.figure.prototype.send_message = function(type, properties) {\n",
       "    properties['type'] = type;\n",
       "    properties['figure_id'] = this.id;\n",
       "    this.ws.send(JSON.stringify(properties));\n",
       "}\n",
       "\n",
       "mpl.figure.prototype.send_draw_message = function() {\n",
       "    if (!this.waiting) {\n",
       "        this.waiting = true;\n",
       "        this.ws.send(JSON.stringify({type: \"draw\", figure_id: this.id}));\n",
       "    }\n",
       "}\n",
       "\n",
       "\n",
       "mpl.figure.prototype.handle_save = function(fig, msg) {\n",
       "    var format_dropdown = fig.format_dropdown;\n",
       "    var format = format_dropdown.options[format_dropdown.selectedIndex].value;\n",
       "    fig.ondownload(fig, format);\n",
       "}\n",
       "\n",
       "\n",
       "mpl.figure.prototype.handle_resize = function(fig, msg) {\n",
       "    var size = msg['size'];\n",
       "    if (size[0] != fig.canvas.width || size[1] != fig.canvas.height) {\n",
       "        fig._resize_canvas(size[0], size[1]);\n",
       "        fig.send_message(\"refresh\", {});\n",
       "    };\n",
       "}\n",
       "\n",
       "mpl.figure.prototype.handle_rubberband = function(fig, msg) {\n",
       "    var x0 = msg['x0'] / mpl.ratio;\n",
       "    var y0 = (fig.canvas.height - msg['y0']) / mpl.ratio;\n",
       "    var x1 = msg['x1'] / mpl.ratio;\n",
       "    var y1 = (fig.canvas.height - msg['y1']) / mpl.ratio;\n",
       "    x0 = Math.floor(x0) + 0.5;\n",
       "    y0 = Math.floor(y0) + 0.5;\n",
       "    x1 = Math.floor(x1) + 0.5;\n",
       "    y1 = Math.floor(y1) + 0.5;\n",
       "    var min_x = Math.min(x0, x1);\n",
       "    var min_y = Math.min(y0, y1);\n",
       "    var width = Math.abs(x1 - x0);\n",
       "    var height = Math.abs(y1 - y0);\n",
       "\n",
       "    fig.rubberband_context.clearRect(\n",
       "        0, 0, fig.canvas.width, fig.canvas.height);\n",
       "\n",
       "    fig.rubberband_context.strokeRect(min_x, min_y, width, height);\n",
       "}\n",
       "\n",
       "mpl.figure.prototype.handle_figure_label = function(fig, msg) {\n",
       "    // Updates the figure title.\n",
       "    fig.header.textContent = msg['label'];\n",
       "}\n",
       "\n",
       "mpl.figure.prototype.handle_cursor = function(fig, msg) {\n",
       "    var cursor = msg['cursor'];\n",
       "    switch(cursor)\n",
       "    {\n",
       "    case 0:\n",
       "        cursor = 'pointer';\n",
       "        break;\n",
       "    case 1:\n",
       "        cursor = 'default';\n",
       "        break;\n",
       "    case 2:\n",
       "        cursor = 'crosshair';\n",
       "        break;\n",
       "    case 3:\n",
       "        cursor = 'move';\n",
       "        break;\n",
       "    }\n",
       "    fig.rubberband_canvas.style.cursor = cursor;\n",
       "}\n",
       "\n",
       "mpl.figure.prototype.handle_message = function(fig, msg) {\n",
       "    fig.message.textContent = msg['message'];\n",
       "}\n",
       "\n",
       "mpl.figure.prototype.handle_draw = function(fig, msg) {\n",
       "    // Request the server to send over a new figure.\n",
       "    fig.send_draw_message();\n",
       "}\n",
       "\n",
       "mpl.figure.prototype.handle_image_mode = function(fig, msg) {\n",
       "    fig.image_mode = msg['mode'];\n",
       "}\n",
       "\n",
       "mpl.figure.prototype.updated_canvas_event = function() {\n",
       "    // Called whenever the canvas gets updated.\n",
       "    this.send_message(\"ack\", {});\n",
       "}\n",
       "\n",
       "// A function to construct a web socket function for onmessage handling.\n",
       "// Called in the figure constructor.\n",
       "mpl.figure.prototype._make_on_message_function = function(fig) {\n",
       "    return function socket_on_message(evt) {\n",
       "        if (evt.data instanceof Blob) {\n",
       "            /* FIXME: We get \"Resource interpreted as Image but\n",
       "             * transferred with MIME type text/plain:\" errors on\n",
       "             * Chrome.  But how to set the MIME type?  It doesn't seem\n",
       "             * to be part of the websocket stream */\n",
       "            evt.data.type = \"image/png\";\n",
       "\n",
       "            /* Free the memory for the previous frames */\n",
       "            if (fig.imageObj.src) {\n",
       "                (window.URL || window.webkitURL).revokeObjectURL(\n",
       "                    fig.imageObj.src);\n",
       "            }\n",
       "\n",
       "            fig.imageObj.src = (window.URL || window.webkitURL).createObjectURL(\n",
       "                evt.data);\n",
       "            fig.updated_canvas_event();\n",
       "            fig.waiting = false;\n",
       "            return;\n",
       "        }\n",
       "        else if (typeof evt.data === 'string' && evt.data.slice(0, 21) == \"data:image/png;base64\") {\n",
       "            fig.imageObj.src = evt.data;\n",
       "            fig.updated_canvas_event();\n",
       "            fig.waiting = false;\n",
       "            return;\n",
       "        }\n",
       "\n",
       "        var msg = JSON.parse(evt.data);\n",
       "        var msg_type = msg['type'];\n",
       "\n",
       "        // Call the  \"handle_{type}\" callback, which takes\n",
       "        // the figure and JSON message as its only arguments.\n",
       "        try {\n",
       "            var callback = fig[\"handle_\" + msg_type];\n",
       "        } catch (e) {\n",
       "            console.log(\"No handler for the '\" + msg_type + \"' message type: \", msg);\n",
       "            return;\n",
       "        }\n",
       "\n",
       "        if (callback) {\n",
       "            try {\n",
       "                // console.log(\"Handling '\" + msg_type + \"' message: \", msg);\n",
       "                callback(fig, msg);\n",
       "            } catch (e) {\n",
       "                console.log(\"Exception inside the 'handler_\" + msg_type + \"' callback:\", e, e.stack, msg);\n",
       "            }\n",
       "        }\n",
       "    };\n",
       "}\n",
       "\n",
       "// from http://stackoverflow.com/questions/1114465/getting-mouse-location-in-canvas\n",
       "mpl.findpos = function(e) {\n",
       "    //this section is from http://www.quirksmode.org/js/events_properties.html\n",
       "    var targ;\n",
       "    if (!e)\n",
       "        e = window.event;\n",
       "    if (e.target)\n",
       "        targ = e.target;\n",
       "    else if (e.srcElement)\n",
       "        targ = e.srcElement;\n",
       "    if (targ.nodeType == 3) // defeat Safari bug\n",
       "        targ = targ.parentNode;\n",
       "\n",
       "    // jQuery normalizes the pageX and pageY\n",
       "    // pageX,Y are the mouse positions relative to the document\n",
       "    // offset() returns the position of the element relative to the document\n",
       "    var x = e.pageX - $(targ).offset().left;\n",
       "    var y = e.pageY - $(targ).offset().top;\n",
       "\n",
       "    return {\"x\": x, \"y\": y};\n",
       "};\n",
       "\n",
       "/*\n",
       " * return a copy of an object with only non-object keys\n",
       " * we need this to avoid circular references\n",
       " * http://stackoverflow.com/a/24161582/3208463\n",
       " */\n",
       "function simpleKeys (original) {\n",
       "  return Object.keys(original).reduce(function (obj, key) {\n",
       "    if (typeof original[key] !== 'object')\n",
       "        obj[key] = original[key]\n",
       "    return obj;\n",
       "  }, {});\n",
       "}\n",
       "\n",
       "mpl.figure.prototype.mouse_event = function(event, name) {\n",
       "    var canvas_pos = mpl.findpos(event)\n",
       "\n",
       "    if (name === 'button_press')\n",
       "    {\n",
       "        this.canvas.focus();\n",
       "        this.canvas_div.focus();\n",
       "    }\n",
       "\n",
       "    var x = canvas_pos.x * mpl.ratio;\n",
       "    var y = canvas_pos.y * mpl.ratio;\n",
       "\n",
       "    this.send_message(name, {x: x, y: y, button: event.button,\n",
       "                             step: event.step,\n",
       "                             guiEvent: simpleKeys(event)});\n",
       "\n",
       "    /* This prevents the web browser from automatically changing to\n",
       "     * the text insertion cursor when the button is pressed.  We want\n",
       "     * to control all of the cursor setting manually through the\n",
       "     * 'cursor' event from matplotlib */\n",
       "    event.preventDefault();\n",
       "    return false;\n",
       "}\n",
       "\n",
       "mpl.figure.prototype._key_event_extra = function(event, name) {\n",
       "    // Handle any extra behaviour associated with a key event\n",
       "}\n",
       "\n",
       "mpl.figure.prototype.key_event = function(event, name) {\n",
       "\n",
       "    // Prevent repeat events\n",
       "    if (name == 'key_press')\n",
       "    {\n",
       "        if (event.which === this._key)\n",
       "            return;\n",
       "        else\n",
       "            this._key = event.which;\n",
       "    }\n",
       "    if (name == 'key_release')\n",
       "        this._key = null;\n",
       "\n",
       "    var value = '';\n",
       "    if (event.ctrlKey && event.which != 17)\n",
       "        value += \"ctrl+\";\n",
       "    if (event.altKey && event.which != 18)\n",
       "        value += \"alt+\";\n",
       "    if (event.shiftKey && event.which != 16)\n",
       "        value += \"shift+\";\n",
       "\n",
       "    value += 'k';\n",
       "    value += event.which.toString();\n",
       "\n",
       "    this._key_event_extra(event, name);\n",
       "\n",
       "    this.send_message(name, {key: value,\n",
       "                             guiEvent: simpleKeys(event)});\n",
       "    return false;\n",
       "}\n",
       "\n",
       "mpl.figure.prototype.toolbar_button_onclick = function(name) {\n",
       "    if (name == 'download') {\n",
       "        this.handle_save(this, null);\n",
       "    } else {\n",
       "        this.send_message(\"toolbar_button\", {name: name});\n",
       "    }\n",
       "};\n",
       "\n",
       "mpl.figure.prototype.toolbar_button_onmouseover = function(tooltip) {\n",
       "    this.message.textContent = tooltip;\n",
       "};\n",
       "mpl.toolbar_items = [[\"Home\", \"Reset original view\", \"fa fa-home icon-home\", \"home\"], [\"Back\", \"Back to previous view\", \"fa fa-arrow-left icon-arrow-left\", \"back\"], [\"Forward\", \"Forward to next view\", \"fa fa-arrow-right icon-arrow-right\", \"forward\"], [\"\", \"\", \"\", \"\"], [\"Pan\", \"Pan axes with left mouse, zoom with right\", \"fa fa-arrows icon-move\", \"pan\"], [\"Zoom\", \"Zoom to rectangle\", \"fa fa-square-o icon-check-empty\", \"zoom\"], [\"\", \"\", \"\", \"\"], [\"Download\", \"Download plot\", \"fa fa-floppy-o icon-save\", \"download\"]];\n",
       "\n",
       "mpl.extensions = [\"eps\", \"jpeg\", \"pdf\", \"png\", \"ps\", \"raw\", \"svg\", \"tif\"];\n",
       "\n",
       "mpl.default_extension = \"png\";var comm_websocket_adapter = function(comm) {\n",
       "    // Create a \"websocket\"-like object which calls the given IPython comm\n",
       "    // object with the appropriate methods. Currently this is a non binary\n",
       "    // socket, so there is still some room for performance tuning.\n",
       "    var ws = {};\n",
       "\n",
       "    ws.close = function() {\n",
       "        comm.close()\n",
       "    };\n",
       "    ws.send = function(m) {\n",
       "        //console.log('sending', m);\n",
       "        comm.send(m);\n",
       "    };\n",
       "    // Register the callback with on_msg.\n",
       "    comm.on_msg(function(msg) {\n",
       "        //console.log('receiving', msg['content']['data'], msg);\n",
       "        // Pass the mpl event to the overridden (by mpl) onmessage function.\n",
       "        ws.onmessage(msg['content']['data'])\n",
       "    });\n",
       "    return ws;\n",
       "}\n",
       "\n",
       "mpl.mpl_figure_comm = function(comm, msg) {\n",
       "    // This is the function which gets called when the mpl process\n",
       "    // starts-up an IPython Comm through the \"matplotlib\" channel.\n",
       "\n",
       "    var id = msg.content.data.id;\n",
       "    // Get hold of the div created by the display call when the Comm\n",
       "    // socket was opened in Python.\n",
       "    var element = $(\"#\" + id);\n",
       "    var ws_proxy = comm_websocket_adapter(comm)\n",
       "\n",
       "    function ondownload(figure, format) {\n",
       "        window.open(figure.imageObj.src);\n",
       "    }\n",
       "\n",
       "    var fig = new mpl.figure(id, ws_proxy,\n",
       "                           ondownload,\n",
       "                           element.get(0));\n",
       "\n",
       "    // Call onopen now - mpl needs it, as it is assuming we've passed it a real\n",
       "    // web socket which is closed, not our websocket->open comm proxy.\n",
       "    ws_proxy.onopen();\n",
       "\n",
       "    fig.parent_element = element.get(0);\n",
       "    fig.cell_info = mpl.find_output_cell(\"<div id='\" + id + \"'></div>\");\n",
       "    if (!fig.cell_info) {\n",
       "        console.error(\"Failed to find cell for figure\", id, fig);\n",
       "        return;\n",
       "    }\n",
       "\n",
       "    var output_index = fig.cell_info[2]\n",
       "    var cell = fig.cell_info[0];\n",
       "\n",
       "};\n",
       "\n",
       "mpl.figure.prototype.handle_close = function(fig, msg) {\n",
       "    var width = fig.canvas.width/mpl.ratio\n",
       "    fig.root.unbind('remove')\n",
       "\n",
       "    // Update the output cell to use the data from the current canvas.\n",
       "    fig.push_to_output();\n",
       "    var dataURL = fig.canvas.toDataURL();\n",
       "    // Re-enable the keyboard manager in IPython - without this line, in FF,\n",
       "    // the notebook keyboard shortcuts fail.\n",
       "    IPython.keyboard_manager.enable()\n",
       "    $(fig.parent_element).html('<img src=\"' + dataURL + '\" width=\"' + width + '\">');\n",
       "    fig.close_ws(fig, msg);\n",
       "}\n",
       "\n",
       "mpl.figure.prototype.close_ws = function(fig, msg){\n",
       "    fig.send_message('closing', msg);\n",
       "    // fig.ws.close()\n",
       "}\n",
       "\n",
       "mpl.figure.prototype.push_to_output = function(remove_interactive) {\n",
       "    // Turn the data on the canvas into data in the output cell.\n",
       "    var width = this.canvas.width/mpl.ratio\n",
       "    var dataURL = this.canvas.toDataURL();\n",
       "    this.cell_info[1]['text/html'] = '<img src=\"' + dataURL + '\" width=\"' + width + '\">';\n",
       "}\n",
       "\n",
       "mpl.figure.prototype.updated_canvas_event = function() {\n",
       "    // Tell IPython that the notebook contents must change.\n",
       "    IPython.notebook.set_dirty(true);\n",
       "    this.send_message(\"ack\", {});\n",
       "    var fig = this;\n",
       "    // Wait a second, then push the new image to the DOM so\n",
       "    // that it is saved nicely (might be nice to debounce this).\n",
       "    setTimeout(function () { fig.push_to_output() }, 1000);\n",
       "}\n",
       "\n",
       "mpl.figure.prototype._init_toolbar = function() {\n",
       "    var fig = this;\n",
       "\n",
       "    var nav_element = $('<div/>')\n",
       "    nav_element.attr('style', 'width: 100%');\n",
       "    this.root.append(nav_element);\n",
       "\n",
       "    // Define a callback function for later on.\n",
       "    function toolbar_event(event) {\n",
       "        return fig.toolbar_button_onclick(event['data']);\n",
       "    }\n",
       "    function toolbar_mouse_event(event) {\n",
       "        return fig.toolbar_button_onmouseover(event['data']);\n",
       "    }\n",
       "\n",
       "    for(var toolbar_ind in mpl.toolbar_items){\n",
       "        var name = mpl.toolbar_items[toolbar_ind][0];\n",
       "        var tooltip = mpl.toolbar_items[toolbar_ind][1];\n",
       "        var image = mpl.toolbar_items[toolbar_ind][2];\n",
       "        var method_name = mpl.toolbar_items[toolbar_ind][3];\n",
       "\n",
       "        if (!name) { continue; };\n",
       "\n",
       "        var button = $('<button class=\"btn btn-default\" href=\"#\" title=\"' + name + '\"><i class=\"fa ' + image + ' fa-lg\"></i></button>');\n",
       "        button.click(method_name, toolbar_event);\n",
       "        button.mouseover(tooltip, toolbar_mouse_event);\n",
       "        nav_element.append(button);\n",
       "    }\n",
       "\n",
       "    // Add the status bar.\n",
       "    var status_bar = $('<span class=\"mpl-message\" style=\"text-align:right; float: right;\"/>');\n",
       "    nav_element.append(status_bar);\n",
       "    this.message = status_bar[0];\n",
       "\n",
       "    // Add the close button to the window.\n",
       "    var buttongrp = $('<div class=\"btn-group inline pull-right\"></div>');\n",
       "    var button = $('<button class=\"btn btn-mini btn-primary\" href=\"#\" title=\"Stop Interaction\"><i class=\"fa fa-power-off icon-remove icon-large\"></i></button>');\n",
       "    button.click(function (evt) { fig.handle_close(fig, {}); } );\n",
       "    button.mouseover('Stop Interaction', toolbar_mouse_event);\n",
       "    buttongrp.append(button);\n",
       "    var titlebar = this.root.find($('.ui-dialog-titlebar'));\n",
       "    titlebar.prepend(buttongrp);\n",
       "}\n",
       "\n",
       "mpl.figure.prototype._root_extra_style = function(el){\n",
       "    var fig = this\n",
       "    el.on(\"remove\", function(){\n",
       "\tfig.close_ws(fig, {});\n",
       "    });\n",
       "}\n",
       "\n",
       "mpl.figure.prototype._canvas_extra_style = function(el){\n",
       "    // this is important to make the div 'focusable\n",
       "    el.attr('tabindex', 0)\n",
       "    // reach out to IPython and tell the keyboard manager to turn it's self\n",
       "    // off when our div gets focus\n",
       "\n",
       "    // location in version 3\n",
       "    if (IPython.notebook.keyboard_manager) {\n",
       "        IPython.notebook.keyboard_manager.register_events(el);\n",
       "    }\n",
       "    else {\n",
       "        // location in version 2\n",
       "        IPython.keyboard_manager.register_events(el);\n",
       "    }\n",
       "\n",
       "}\n",
       "\n",
       "mpl.figure.prototype._key_event_extra = function(event, name) {\n",
       "    var manager = IPython.notebook.keyboard_manager;\n",
       "    if (!manager)\n",
       "        manager = IPython.keyboard_manager;\n",
       "\n",
       "    // Check for shift+enter\n",
       "    if (event.shiftKey && event.which == 13) {\n",
       "        this.canvas_div.blur();\n",
       "        event.shiftKey = false;\n",
       "        // Send a \"J\" for go to next cell\n",
       "        event.which = 74;\n",
       "        event.keyCode = 74;\n",
       "        manager.command_mode();\n",
       "        manager.handle_keydown(event);\n",
       "    }\n",
       "}\n",
       "\n",
       "mpl.figure.prototype.handle_save = function(fig, msg) {\n",
       "    fig.ondownload(fig, null);\n",
       "}\n",
       "\n",
       "\n",
       "mpl.find_output_cell = function(html_output) {\n",
       "    // Return the cell and output element which can be found *uniquely* in the notebook.\n",
       "    // Note - this is a bit hacky, but it is done because the \"notebook_saving.Notebook\"\n",
       "    // IPython event is triggered only after the cells have been serialised, which for\n",
       "    // our purposes (turning an active figure into a static one), is too late.\n",
       "    var cells = IPython.notebook.get_cells();\n",
       "    var ncells = cells.length;\n",
       "    for (var i=0; i<ncells; i++) {\n",
       "        var cell = cells[i];\n",
       "        if (cell.cell_type === 'code'){\n",
       "            for (var j=0; j<cell.output_area.outputs.length; j++) {\n",
       "                var data = cell.output_area.outputs[j];\n",
       "                if (data.data) {\n",
       "                    // IPython >= 3 moved mimebundle to data attribute of output\n",
       "                    data = data.data;\n",
       "                }\n",
       "                if (data['text/html'] == html_output) {\n",
       "                    return [cell, data, j];\n",
       "                }\n",
       "            }\n",
       "        }\n",
       "    }\n",
       "}\n",
       "\n",
       "// Register the function which deals with the matplotlib target/channel.\n",
       "// The kernel may be null if the page has been refreshed.\n",
       "if (IPython.notebook.kernel != null) {\n",
       "    IPython.notebook.kernel.comm_manager.register_target('matplotlib', mpl.mpl_figure_comm);\n",
       "}\n"
      ],
      "text/plain": [
       "<IPython.core.display.Javascript object>"
      ]
     },
     "metadata": {},
     "output_type": "display_data"
    },
    {
     "data": {
      "text/html": [
       "<img src=\"data:image/png;base64,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\" width=\"640\">"
      ],
      "text/plain": [
       "<IPython.core.display.HTML object>"
      ]
     },
     "metadata": {},
     "output_type": "display_data"
    },
    {
     "data": {
      "text/plain": [
       "<sympy.plotting.plot.Plot at 0x244510897b8>"
      ]
     },
     "execution_count": 26,
     "metadata": {},
     "output_type": "execute_result"
    }
   ],
   "source": [
    "f=x**3-3*x**2-24*x+32\n",
    "plot(f)"
   ]
  },
  {
   "cell_type": "code",
   "execution_count": 27,
   "metadata": {},
   "outputs": [
    {
     "data": {
      "image/png": "[encoded data removed]",
      "text/latex": [
       "$$3 x^{2} - 6 x - 24$$"
      ],
      "text/plain": [
       "   2           \n",
       "3⋅x  - 6⋅x - 24"
      ]
     },
     "execution_count": 27,
     "metadata": {},
     "output_type": "execute_result"
    }
   ],
   "source": [
    "df=f.diff()\n",
    "df"
   ]
  },
  {
   "cell_type": "code",
   "execution_count": 15,
   "metadata": {},
   "outputs": [
    {
     "data": {
      "image/png": "[encoded data removed]",
      "text/latex": [
       "$$\\frac{x^{4}}{4} + x^{3} + 12 x^{2} + 32 x$$"
      ],
      "text/plain": [
       " 4                    \n",
       "x     3       2       \n",
       "── + x  + 12⋅x  + 32⋅x\n",
       "4                     "
      ]
     },
     "execution_count": 15,
     "metadata": {},
     "output_type": "execute_result"
    }
   ],
   "source": [
    "intf=f.integrate()\n",
    "intf"
   ]
  },
  {
   "cell_type": "code",
   "execution_count": 18,
   "metadata": {},
   "outputs": [
    {
     "data": {
      "image/png": "[encoded data removed]",
      "text/latex": [
       "$$6 \\left(x + 1\\right)$$"
      ],
      "text/plain": [
       "6⋅(x + 1)"
      ]
     },
     "execution_count": 18,
     "metadata": {},
     "output_type": "execute_result"
    }
   ],
   "source": [
    "df2=f.diff(x,2)\n",
    "df2"
   ]
  },
  {
   "cell_type": "code",
   "execution_count": 28,
   "metadata": {},
   "outputs": [
    {
     "data": {
      "image/png": "[encoded data removed]",
      "text/latex": [
       "$$\\left [ -2, \\quad 4\\right ]$$"
      ],
      "text/plain": [
       "[-2, 4]"
      ]
     },
     "execution_count": 28,
     "metadata": {},
     "output_type": "execute_result"
    }
   ],
   "source": [
    "pc=solve(df)\n",
    "pc"
   ]
  },
  {
   "cell_type": "code",
   "execution_count": 31,
   "metadata": {},
   "outputs": [
    {
     "data": {
      "image/png": "[encoded data removed]",
      "text/latex": [
       "$$\\left ( -18, \\quad 18\\right )$$"
      ],
      "text/plain": [
       "(-18, 18)"
      ]
     },
     "execution_count": 31,
     "metadata": {},
     "output_type": "execute_result"
    }
   ],
   "source": [
    "ddf=df.diff()\n",
    "ddf.subs(x,pc[0]),ddf.subs(x,pc[1])"
   ]
  },
  {
   "cell_type": "markdown",
   "metadata": {},
   "source": [
    "ejercicio:\n",
    "se desea que combinaciones de medidas da el area maxima"
   ]
  },
  {
   "cell_type": "code",
   "execution_count": 37,
   "metadata": {},
   "outputs": [
    {
     "data": {
      "image/png": "[encoded data removed]",
      "text/latex": [
       "$$\\left ( x + 2 y = 2400, \\quad x y\\right )$$"
      ],
      "text/plain": [
       "(x + 2⋅y = 2400, x⋅y)"
      ]
     },
     "execution_count": 37,
     "metadata": {},
     "output_type": "execute_result"
    }
   ],
   "source": [
    "P=Eq(x+2*y,2400)\n",
    "A=x*y\n",
    "(P,A)"
   ]
  },
  {
   "cell_type": "code",
   "execution_count": 71,
   "metadata": {},
   "outputs": [
    {
     "data": {
      "image/png": "[encoded data removed]",
      "text/latex": [
       "$$- 0.5 x + 1200$$"
      ],
      "text/plain": [
       "-0.5⋅x + 1200"
      ]
     },
     "execution_count": 71,
     "metadata": {},
     "output_type": "execute_result"
    }
   ],
   "source": [
    "y2=-x*(0.5)+1200\n",
    "y2"
   ]
  },
  {
   "cell_type": "code",
   "execution_count": 68,
   "metadata": {},
   "outputs": [
    {
     "data": {
      "image/png": "[encoded data removed]",
      "text/latex": [
       "$$x \\left(- \\frac{x}{2} + 1200\\right)$$"
      ],
      "text/plain": [
       "  ⎛  x       ⎞\n",
       "x⋅⎜- ─ + 1200⎟\n",
       "  ⎝  2       ⎠"
      ]
     },
     "execution_count": 68,
     "metadata": {},
     "output_type": "execute_result"
    }
   ],
   "source": [
    "f_=A.subs(y,y2[0])\n",
    "f_"
   ]
  },
  {
   "cell_type": "code",
   "execution_count": 41,
   "metadata": {},
   "outputs": [
    {
     "data": {
      "image/png": "[encoded data removed]",
      "text/latex": [
       "$$- x + 1200$$"
      ],
      "text/plain": [
       "-x + 1200"
      ]
     },
     "execution_count": 41,
     "metadata": {},
     "output_type": "execute_result"
    }
   ],
   "source": [
    "df_=f_.diff()\n",
    "df_"
   ]
  },
  {
   "cell_type": "code",
   "execution_count": 43,
   "metadata": {},
   "outputs": [
    {
     "data": {
      "image/png": "[encoded data removed]",
      "text/latex": [
       "$$\\left [ 1200\\right ]$$"
      ],
      "text/plain": [
       "[1200]"
      ]
     },
     "execution_count": 43,
     "metadata": {},
     "output_type": "execute_result"
    }
   ],
   "source": [
    "pc=solve(df_)\n",
    "pc"
   ]
  },
  {
   "cell_type": "code",
   "execution_count": 73,
   "metadata": {
    "scrolled": true
   },
   "outputs": [
    {
     "data": {
      "image/png": "[encoded data removed]",
      "text/latex": [
       "$$600.0$$"
      ],
      "text/plain": [
       "600.000000000000"
      ]
     },
     "execution_count": 73,
     "metadata": {},
     "output_type": "execute_result"
    }
   ],
   "source": [
    "Sol=y2.subs(x,1200)\n",
    "Sol"
   ]
  },
  {
   "cell_type": "code",
   "execution_count": 62,
   "metadata": {},
   "outputs": [
    {
     "data": {
      "image/png": "[encoded data removed]",
      "text/latex": [
       "$$x$$"
      ],
      "text/plain": [
       "x"
      ]
     },
     "execution_count": 62,
     "metadata": {},
     "output_type": "execute_result"
    }
   ],
   "source": [
    "x"
   ]
  },
  {
   "cell_type": "code",
   "execution_count": 72,
   "metadata": {},
   "outputs": [
    {
     "data": {
      "text/plain": [
       "sympy.core.add.Add"
      ]
     },
     "execution_count": 72,
     "metadata": {},
     "output_type": "execute_result"
    }
   ],
   "source": [
    "type(y2)"
   ]
  },
  {
   "cell_type": "markdown",
   "metadata": {},
   "source": [
    "$Optimizacion-Con-Dos-Variables$ "
   ]
  },
  {
   "cell_type": "code",
   "execution_count": 75,
   "metadata": {},
   "outputs": [
    {
     "data": {
      "image/png": "[encoded data removed]",
      "text/latex": [
       "$$x^{2} + y^{2}$$"
      ],
      "text/plain": [
       " 2    2\n",
       "x  + y "
      ]
     },
     "execution_count": 75,
     "metadata": {},
     "output_type": "execute_result"
    }
   ],
   "source": [
    "f= x**2+y**2\n",
    "f"
   ]
  },
  {
   "cell_type": "code",
   "execution_count": 78,
   "metadata": {},
   "outputs": [
    {
     "data": {
      "image/png": "[encoded data removed]",
      "text/latex": [
       "$$\\left \\{ x : 0, \\quad y : 0\\right \\}$$"
      ],
      "text/plain": [
       "{x: 0, y: 0}"
      ]
     },
     "execution_count": 78,
     "metadata": {},
     "output_type": "execute_result"
    }
   ],
   "source": [
    "dfx=f.diff(x)\n",
    "dfy=f.diff(y)\n",
    "\n",
    "pc=solve([dfx,dfy],[x,y])\n",
    "pc"
   ]
  },
  {
   "cell_type": "code",
   "execution_count": 82,
   "metadata": {},
   "outputs": [
    {
     "data": {
      "image/png": "[encoded data removed]",
      "text/latex": [
       "$$\\left ( 4, \\quad 2\\right )$$"
      ],
      "text/plain": [
       "(4, 2)"
      ]
     },
     "execution_count": 82,
     "metadata": {},
     "output_type": "execute_result"
    }
   ],
   "source": [
    "dfxx=dfx.diff(x)\n",
    "dfxy=dfx.diff(y)\n",
    "dfyx=dfy.diff(x)\n",
    "dfyy=dfy.diff(y)\n",
    "\n",
    "D=dfxx*dfyy-dfxy\n",
    "D.subs(pc),dfxx.subs(pc)"
   ]
  },
  {
   "cell_type": "code",
   "execution_count": null,
   "metadata": {},
   "outputs": [],
   "source": []
  }
 ],
 "metadata": {
  "kernelspec": {
   "display_name": "Python 3",
   "language": "python",
   "name": "python3"
  },
  "language_info": {
   "codemirror_mode": {
    "name": "ipython",
    "version": 3
   },
   "file_extension": ".py",
   "mimetype": "text/x-python",
   "name": "python",
   "nbconvert_exporter": "python",
   "pygments_lexer": "ipython3",
   "version": "3.7.1"
  }
 },
 "nbformat": 4,
 "nbformat_minor": 2
}
