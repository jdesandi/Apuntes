{
 "cells": [
  {
   "cell_type": "markdown",
   "metadata": {},
   "source": [
    "Usando Pulp"
   ]
  },
  {
   "cell_type": "code",
   "execution_count": 2,
   "metadata": {},
   "outputs": [
    {
     "name": "stdout",
     "output_type": "stream",
     "text": [
      "Collecting pulp\n",
      "  Downloading https://files.pythonhosted.org/packages/91/cd/8ed5d788973f6632cc44d0e95c486646c090c427c90667c901b75e544bc1/PuLP-1.6.9.zip (13.6MB)\n",
      "Requirement already satisfied: pyparsing>=2.0.1 in d:\\archivos de programa\\anaconda3\\lib\\site-packages (from pulp) (2.3.0)\n",
      "Building wheels for collected packages: pulp\n",
      "  Running setup.py bdist_wheel for pulp: started\n",
      "  Running setup.py bdist_wheel for pulp: finished with status 'done'\n",
      "  Stored in directory: C:\\Users\\jdesa\\AppData\\Local\\pip\\Cache\\wheels\\3b\\f1\\f5\\f6d0aac56dd154c2593d3fa5e901aa9bc32a51bd8594b4bf8e\n",
      "Successfully built pulp\n",
      "Installing collected packages: pulp\n",
      "Successfully installed pulp-1.6.9\n"
     ]
    }
   ],
   "source": [
    "!pip install pulp"
   ]
  },
  {
   "cell_type": "code",
   "execution_count": 3,
   "metadata": {},
   "outputs": [],
   "source": [
    "from pulp import *"
   ]
  },
  {
   "cell_type": "code",
   "execution_count": 4,
   "metadata": {},
   "outputs": [],
   "source": [
    "pulp.LpVariable?"
   ]
  },
  {
   "cell_type": "code",
   "execution_count": 9,
   "metadata": {},
   "outputs": [],
   "source": [
    "mi_lp_problema=pulp.LpProblem(\"Mi LP problema\", pulp.LpMinimize)\n",
    "\n",
    "x=pulp.LpVariable('x',lowBound=0,cat='Continuous')\n",
    "y=pulp.LpVariable('y',lowBound=0,cat='Continuous')\n",
    "\n",
    "mi_lp_problema+=x+2*y\n",
    "\n",
    "mi_lp_problema+=3*x+4*y>=1\n",
    "mi_lp_problema+=2*x+5*y>=2"
   ]
  },
  {
   "cell_type": "code",
   "execution_count": 10,
   "metadata": {},
   "outputs": [
    {
     "data": {
      "text/plain": [
       "Mi LP problema:\n",
       "MINIMIZE\n",
       "1*x + 2*y + 0\n",
       "SUBJECT TO\n",
       "_C1: 3 x + 4 y >= 1\n",
       "\n",
       "_C2: 2 x + 5 y >= 2\n",
       "\n",
       "VARIABLES\n",
       "x Continuous\n",
       "y Continuous"
      ]
     },
     "execution_count": 10,
     "metadata": {},
     "output_type": "execute_result"
    }
   ],
   "source": [
    "mi_lp_problema"
   ]
  },
  {
   "cell_type": "code",
   "execution_count": 12,
   "metadata": {},
   "outputs": [
    {
     "data": {
      "text/plain": [
       "'Optimal'"
      ]
     },
     "execution_count": 12,
     "metadata": {},
     "output_type": "execute_result"
    }
   ],
   "source": [
    "mi_lp_problema.solve()\n",
    "pulp.LpStatus[mi_lp_problema.status]"
   ]
  },
  {
   "cell_type": "code",
   "execution_count": 14,
   "metadata": {},
   "outputs": [
    {
     "name": "stdout",
     "output_type": "stream",
     "text": [
      "x=0.0\n",
      "y=0.4\n"
     ]
    }
   ],
   "source": [
    "for variable in mi_lp_problema.variables():\n",
    "    print(\"{}={}\".format(variable.name,variable.varValue))"
   ]
  },
  {
   "cell_type": "code",
   "execution_count": 15,
   "metadata": {},
   "outputs": [
    {
     "name": "stdout",
     "output_type": "stream",
     "text": [
      "0.8\n"
     ]
    }
   ],
   "source": [
    "print(pulp.value(mi_lp_problema.objective))"
   ]
  },
  {
   "cell_type": "markdown",
   "metadata": {},
   "source": [
    "Utilizando cvxopt"
   ]
  },
  {
   "cell_type": "code",
   "execution_count": 17,
   "metadata": {},
   "outputs": [
    {
     "name": "stdout",
     "output_type": "stream",
     "text": [
      "Collecting cvxopt\n",
      "  Downloading https://files.pythonhosted.org/packages/4f/f3/75ad5f2d09226008ba126eb260f81f602c23ec720dd6cf1da935ec894383/cvxopt-1.2.3-cp37-cp37m-win_amd64.whl (815kB)\n",
      "Collecting mkl (from cvxopt)\n",
      "  Downloading https://files.pythonhosted.org/packages/56/39/537cb3e4e93f1ac5085dc3b3a43cfd99d0af9b29c44fcaa99490f526b611/mkl-2019.0-py2.py3-none-win_amd64.whl (224.1MB)\n",
      "Collecting intel-openmp (from mkl->cvxopt)\n",
      "  Downloading https://files.pythonhosted.org/packages/2f/24/2562ec7515e44dea49867fab2c75704c0014d5d3da1f4e9f3bcfac717e5f/intel_openmp-2019.0-py2.py3-none-win_amd64.whl (1.9MB)\n",
      "Installing collected packages: intel-openmp, mkl, cvxopt\n",
      "Successfully installed cvxopt-1.2.3 intel-openmp-2019.0 mkl-2019.0\n"
     ]
    }
   ],
   "source": [
    "!pip install cvxopt"
   ]
  },
  {
   "cell_type": "code",
   "execution_count": 22,
   "metadata": {},
   "outputs": [
    {
     "name": "stdout",
     "output_type": "stream",
     "text": [
      "     pcost       dcost       gap    pres   dres   k/t\n",
      " 0:  6.7308e-01  3.7308e+00  6e+00  1e+00  5e+00  1e+00\n",
      " 1:  8.4233e-01  1.0964e+00  5e-01  1e-01  6e-01  6e-03\n",
      " 2:  8.0538e-01  8.2298e-01  2e-02  8e-03  4e-02  2e-03\n",
      " 3:  8.0005e-01  8.0026e-01  2e-04  1e-04  5e-04  3e-05\n",
      " 4:  8.0000e-01  8.0000e-01  2e-06  1e-06  5e-06  3e-07\n",
      " 5:  8.0000e-01  8.0000e-01  2e-08  1e-08  5e-08  3e-09\n",
      "Optimal solution found.\n",
      "[ 1.86e-08]\n",
      "[ 4.00e-01]\n",
      "\n"
     ]
    }
   ],
   "source": [
    "from cvxopt import matrix, solvers\n",
    "A=matrix([[-3.0,-2.0,-1.0,0.0],[-4.0,-5.0,0.0,-1.0]])\n",
    "b=matrix([-1.0,-2.0,0.0,0.0])\n",
    "c=matrix([1.0,2.0])\n",
    "sol=solvers.lp(c,A,b)\n",
    "print(sol['x'])"
   ]
  },
  {
   "cell_type": "markdown",
   "metadata": {},
   "source": [
    "Ejemplo 5.1 Usando pulp\n",
    "--"
   ]
  },
  {
   "cell_type": "code",
   "execution_count": 26,
   "metadata": {},
   "outputs": [],
   "source": [
    "Ejem_5=pulp.LpProblem(\"Ejemplo 5.1\", pulp.LpMinimize)\n",
    "\n",
    "Ejem_5+=2*x+y\n",
    "\n",
    "x1=pulp.LpVariable('x1',cat='Continuous')\n",
    "x2=pulp.LpVariable('x2',lowBound=0,cat='Continuous')\n",
    "\n",
    "Ejem_5+=2*x1+x2\n",
    "\n",
    "Ejem_5+=-x1+x2<=1\n",
    "Ejem_5+=x1+x2>=2\n",
    "Ejem_5+=x1-2*x2<=4"
   ]
  },
  {
   "cell_type": "code",
   "execution_count": 27,
   "metadata": {},
   "outputs": [
    {
     "data": {
      "text/plain": [
       "Ejemplo 5.1:\n",
       "MINIMIZE\n",
       "2*x1 + 1*x2 + 0\n",
       "SUBJECT TO\n",
       "_C1: - x1 + x2 <= 1\n",
       "\n",
       "_C2: x1 + x2 >= 2\n",
       "\n",
       "_C3: x1 - 2 x2 <= 4\n",
       "\n",
       "VARIABLES\n",
       "x1 free Continuous\n",
       "x2 Continuous"
      ]
     },
     "execution_count": 27,
     "metadata": {},
     "output_type": "execute_result"
    }
   ],
   "source": [
    "Ejem_5"
   ]
  },
  {
   "cell_type": "code",
   "execution_count": 28,
   "metadata": {},
   "outputs": [
    {
     "data": {
      "text/plain": [
       "'Optimal'"
      ]
     },
     "execution_count": 28,
     "metadata": {},
     "output_type": "execute_result"
    }
   ],
   "source": [
    "Ejem_5.solve()\n",
    "pulp.LpStatus[Ejem_5.status]"
   ]
  },
  {
   "cell_type": "code",
   "execution_count": 29,
   "metadata": {},
   "outputs": [
    {
     "name": "stdout",
     "output_type": "stream",
     "text": [
      "x1=0.5\n",
      "x2=1.5\n"
     ]
    }
   ],
   "source": [
    "for variable in Ejem_5.variables():\n",
    "    print(\"{}={}\".format(variable.name,variable.varValue))"
   ]
  },
  {
   "cell_type": "markdown",
   "metadata": {},
   "source": [
    "Ejemplo 5.1 usando cvxopt\n",
    "--"
   ]
  },
  {
   "cell_type": "code",
   "execution_count": 31,
   "metadata": {},
   "outputs": [
    {
     "name": "stdout",
     "output_type": "stream",
     "text": [
      "     pcost       dcost       gap    pres   dres   k/t\n",
      " 0:  2.6471e+00 -7.0588e-01  2e+01  8e-01  2e+00  1e+00\n",
      " 1:  3.0726e+00  2.8437e+00  1e+00  1e-01  2e-01  3e-01\n",
      " 2:  2.4891e+00  2.4808e+00  1e-01  1e-02  2e-02  5e-02\n",
      " 3:  2.4999e+00  2.4998e+00  1e-03  1e-04  2e-04  5e-04\n",
      " 4:  2.5000e+00  2.5000e+00  1e-05  1e-06  2e-06  5e-06\n",
      " 5:  2.5000e+00  2.5000e+00  1e-07  1e-08  2e-08  5e-08\n",
      "Optimal solution found.\n",
      "[ 5.00e-01]\n",
      "[ 1.50e+00]\n",
      "\n"
     ]
    }
   ],
   "source": [
    "A1=matrix([[-1.0,-1.0,-0.0,1.0],[1.0,-1.0,-1.0,-2.0]])\n",
    "b1=matrix([1.0,-2.0,0.0,4.0])\n",
    "c1=matrix([2.0,1.0])\n",
    "sol=solvers.lp(c1,A1,b1)\n",
    "print(sol['x'])"
   ]
  },
  {
   "cell_type": "markdown",
   "metadata": {},
   "source": [
    "Utilizando scipy.optimize\n",
    "--"
   ]
  },
  {
   "cell_type": "code",
   "execution_count": 32,
   "metadata": {},
   "outputs": [],
   "source": [
    "from scipy.optimize import linprog"
   ]
  },
  {
   "cell_type": "code",
   "execution_count": 38,
   "metadata": {},
   "outputs": [
    {
     "name": "stdout",
     "output_type": "stream",
     "text": [
      "Optimization terminated successfully.\n",
      "         Current function value: 2.500000    \n",
      "         Iterations: 2\n",
      "     fun: 2.5\n",
      " message: 'Optimization terminated successfully.'\n",
      "     nit: 2\n",
      "   slack: array([0. , 6.5, 0. ])\n",
      "  status: 0\n",
      " success: True\n",
      "       x: array([0.5, 1.5])\n"
     ]
    }
   ],
   "source": [
    "c=[2,1]\n",
    "A=[[-1,1],\n",
    " [-1,-1],\n",
    " [1,-2]]\n",
    "b=[1,-2,4]\n",
    "\n",
    "x0_bounds=(0,None)\n",
    "x1_bounds=(0,None)\n",
    "\n",
    "res=linprog(c,A_ub=A,b_ub=b,bounds=(x0_bounds,x1_bounds),options={\"disp\":True})\n",
    "\n",
    "print(res)"
   ]
  },
  {
   "cell_type": "code",
   "execution_count": null,
   "metadata": {},
   "outputs": [],
   "source": []
  }
 ],
 "metadata": {
  "kernelspec": {
   "display_name": "Python 3",
   "language": "python",
   "name": "python3"
  },
  "language_info": {
   "codemirror_mode": {
    "name": "ipython",
    "version": 3
   },
   "file_extension": ".py",
   "mimetype": "text/x-python",
   "name": "python",
   "nbconvert_exporter": "python",
   "pygments_lexer": "ipython3",
   "version": "3.7.1"
  }
 },
 "nbformat": 4,
 "nbformat_minor": 2
}
