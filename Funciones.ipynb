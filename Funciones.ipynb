{
 "cells": [
  {
   "cell_type": "code",
   "execution_count": 2,
   "metadata": {},
   "outputs": [
    {
     "name": "stdout",
     "output_type": "stream",
     "text": [
      "Hola\n"
     ]
    }
   ],
   "source": [
    "def saludo():\n",
    "    print (\"Hola\")\n",
    "saludo()"
   ]
  },
  {
   "cell_type": "code",
   "execution_count": 6,
   "metadata": {},
   "outputs": [
    {
     "name": "stdout",
     "output_type": "stream",
     "text": [
      "0\n",
      "Hola\n",
      "1\n",
      "Hola\n",
      "2\n",
      "Hola\n"
     ]
    }
   ],
   "source": [
    "def tres_saludos():\n",
    "    for i in range(3):\n",
    "        print(i)\n",
    "        saludo()\n",
    "tres_saludos()"
   ]
  },
  {
   "cell_type": "markdown",
   "metadata": {},
   "source": [
    "En Python no necesitas especificar los tipos de datos que seran los parametros"
   ]
  },
  {
   "cell_type": "code",
   "execution_count": 8,
   "metadata": {},
   "outputs": [
    {
     "name": "stdout",
     "output_type": "stream",
     "text": [
      "La media es:  3.0\n"
     ]
    }
   ],
   "source": [
    "def media_1():\n",
    "    media = (2+4)/2\n",
    "    print(\"La media es: \",media)\n",
    "media_1()"
   ]
  },
  {
   "cell_type": "code",
   "execution_count": 9,
   "metadata": {},
   "outputs": [],
   "source": [
    "def media_2(a,b):\n",
    "    media=(a+b)/2\n",
    "    print(\"La media es: \", media)"
   ]
  },
  {
   "cell_type": "code",
   "execution_count": 12,
   "metadata": {},
   "outputs": [
    {
     "name": "stdout",
     "output_type": "stream",
     "text": [
      "holamundo\n",
      "9\n",
      "[1, 34, 5, 3, 6]\n"
     ]
    }
   ],
   "source": [
    "def suma (a,b):\n",
    "    print(a+b)\n",
    "suma(\"hola\",\"mundo\"), suma(3,6), suma([1,34,5],[3,6]);"
   ]
  },
  {
   "cell_type": "markdown",
   "metadata": {},
   "source": [
    "Parametros por omision"
   ]
  },
  {
   "cell_type": "code",
   "execution_count": 15,
   "metadata": {},
   "outputs": [
    {
     "name": "stdout",
     "output_type": "stream",
     "text": [
      "La media es:  4.0\n",
      "La media es:  6.5\n"
     ]
    }
   ],
   "source": [
    "def media_2 (a,b=5):\n",
    "    media=(a+b)/2\n",
    "    print(\"La media es: \", media)\n",
    "media_2(3)\n",
    "media_2(3,10)"
   ]
  },
  {
   "cell_type": "code",
   "execution_count": 18,
   "metadata": {},
   "outputs": [
    {
     "name": "stdout",
     "output_type": "stream",
     "text": [
      "Hola mundo\n",
      "Hola Mundo\n",
      "Que tal mundo\n",
      "Que tal Tierra\n"
     ]
    }
   ],
   "source": [
    "def saludar (nombre=\"mundo\", mensaje= \"Hola\"):\n",
    "    print (mensaje, nombre)\n",
    "saludar()\n",
    "saludar(\"Mundo\")\n",
    "saludar (mensaje=\"Que tal\")\n",
    "saludar (nombre=\"Tierra\", mensaje =\"Que tal\")\n",
    "\n"
   ]
  },
  {
   "cell_type": "markdown",
   "metadata": {},
   "source": [
    "Regresar un valor"
   ]
  },
  {
   "cell_type": "code",
   "execution_count": 21,
   "metadata": {},
   "outputs": [
    {
     "data": {
      "text/plain": [
       "2.5"
      ]
     },
     "execution_count": 21,
     "metadata": {},
     "output_type": "execute_result"
    }
   ],
   "source": [
    "def media_3(a,b):\n",
    "    media =(a+b)/2\n",
    "    return media\n",
    "media_3(2,3)"
   ]
  },
  {
   "cell_type": "code",
   "execution_count": 23,
   "metadata": {},
   "outputs": [
    {
     "name": "stdout",
     "output_type": "stream",
     "text": [
      "5 es mayor que la media\n"
     ]
    }
   ],
   "source": [
    "if 5> media_3(3,5):\n",
    "    print ( \"5 es mayor que la media\")"
   ]
  },
  {
   "cell_type": "markdown",
   "metadata": {},
   "source": [
    "$Ejercicio:$\n"
   ]
  },
  {
   "cell_type": "code",
   "execution_count": 48,
   "metadata": {},
   "outputs": [
    {
     "name": "stdout",
     "output_type": "stream",
     "text": [
      "La media es:  3.5\n",
      "La desviacion es:  0.5773502691896257\n"
     ]
    }
   ],
   "source": [
    "def suma (a,b,c,d):\n",
    "    total=a+b+c+d\n",
    "    return total\n",
    "\n",
    "def cuadrado (a):\n",
    "    numelevado=a**2\n",
    "    return numelevado\n",
    "\n",
    "def avg_desv(datos):\n",
    "    total_avg=0\n",
    "    total_desv=0\n",
    "    \n",
    "    for x in range(len(datos)):\n",
    "        total_avg=total_avg+datos[x]\n",
    "    promedio=total_avg/len(datos)\n",
    "    \n",
    "    for y in range(len(datos)):\n",
    "        total_desv=total_desv+(datos[x]-promedio)**2\n",
    "    desv=(total_desv/(len(datos)-1))**(1/2)\n",
    "    \n",
    "    print(\"La media es: \", promedio)\n",
    "    print(\"La desviacion es: \", desv)\n",
    "\n",
    "lista=[3,4,3,4]\n",
    "avg_desv(lista)        \n"
   ]
  },
  {
   "cell_type": "markdown",
   "metadata": {},
   "source": [
    "$AMBITO  GLOBAL$"
   ]
  },
  {
   "cell_type": "code",
   "execution_count": 49,
   "metadata": {},
   "outputs": [],
   "source": [
    "def funcion1():\n",
    "    print()"
   ]
  },
  {
   "cell_type": "markdown",
   "metadata": {},
   "source": [
    "Ambito no local"
   ]
  },
  {
   "cell_type": "markdown",
   "metadata": {},
   "source": [
    "Funciones con parametros variables"
   ]
  },
  {
   "cell_type": "markdown",
   "metadata": {},
   "source": [
    "parametros variables clave-valor"
   ]
  },
  {
   "cell_type": "code",
   "execution_count": null,
   "metadata": {},
   "outputs": [],
   "source": []
  }
 ],
 "metadata": {
  "kernelspec": {
   "display_name": "Python 3",
   "language": "python",
   "name": "python3"
  },
  "language_info": {
   "codemirror_mode": {
    "name": "ipython",
    "version": 3
   },
   "file_extension": ".py",
   "mimetype": "text/x-python",
   "name": "python",
   "nbconvert_exporter": "python",
   "pygments_lexer": "ipython3",
   "version": "3.7.1"
  }
 },
 "nbformat": 4,
 "nbformat_minor": 2
}
