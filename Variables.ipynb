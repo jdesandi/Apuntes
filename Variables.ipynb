{
 "cells": [
  {
   "cell_type": "code",
   "execution_count": 20,
   "metadata": {
    "scrolled": true
   },
   "outputs": [
    {
     "data": {
      "text/plain": [
       "8"
      ]
     },
     "execution_count": 20,
     "metadata": {},
     "output_type": "execute_result"
    }
   ],
   "source": [
    "3+5"
   ]
  },
  {
   "cell_type": "code",
   "execution_count": 29,
   "metadata": {},
   "outputs": [
    {
     "name": "stdout",
     "output_type": "stream",
     "text": [
      "holamundo\n"
     ]
    }
   ],
   "source": [
    "mensaje= \"hola\"\n",
    "mensaje=mensaje +\"mundo\"\n",
    "print(mensaje)"
   ]
  },
  {
   "cell_type": "code",
   "execution_count": 31,
   "metadata": {},
   "outputs": [
    {
     "name": "stdout",
     "output_type": "stream",
     "text": [
      "¿Cual es su radio?2\n"
     ]
    },
    {
     "data": {
      "text/plain": [
       "12.5664"
      ]
     },
     "execution_count": 31,
     "metadata": {},
     "output_type": "execute_result"
    }
   ],
   "source": [
    "radio = input(\"¿Cual es su radio?\")\n",
    "radio=int(radio)\n",
    "pi=3.1416\n",
    "Area= pi*radio**2\n",
    "Area"
   ]
  },
  {
   "cell_type": "code",
   "execution_count": 13,
   "metadata": {},
   "outputs": [
    {
     "name": "stdout",
     "output_type": "stream",
     "text": [
      "¿Cual es su radio?1\n"
     ]
    },
    {
     "data": {
      "text/plain": [
       "3.1416"
      ]
     },
     "execution_count": 13,
     "metadata": {},
     "output_type": "execute_result"
    }
   ],
   "source": [
    "radio = int(input(\"¿Cual es su radio?\"))\n",
    "pi=3.1416\n",
    "Area= pi*radio**2\n",
    "Area"
   ]
  },
  {
   "cell_type": "code",
   "execution_count": 1,
   "metadata": {},
   "outputs": [
    {
     "name": "stdout",
     "output_type": "stream",
     "text": [
      "Solo trabaja   y nada de juegos   hacen de Juan   un niño aburrido\n"
     ]
    }
   ],
   "source": [
    "Palabra1 = \"Solo trabajo\"\n",
    "Palabra2=\"y nada de juegos\"\n",
    "Palabra3=\"hacen de Juan\"\n",
    "Palabra4=\"un niño aburrido\"\n",
    "print(Palabra1,\" \",Palabra2,\" \",Palabra3,\" \",Palabra4)"
   ]
  },
  {
   "cell_type": "code",
   "execution_count": 3,
   "metadata": {},
   "outputs": [
    {
     "name": "stdout",
     "output_type": "stream",
     "text": [
      "4\n",
      "-6\n"
     ]
    }
   ],
   "source": [
    "Operacion1=6*1-2\n",
    "Operacion2=6*(1-2)\n",
    "print(Operacion1)\n",
    "print(Operacion2)"
   ]
  },
  {
   "cell_type": "code",
   "execution_count": 5,
   "metadata": {},
   "outputs": [
    {
     "name": "stdout",
     "output_type": "stream",
     "text": [
      "Numero de años: 4\n",
      "A= 137.566610043379\n"
     ]
    }
   ],
   "source": [
    "\n",
    "P=100\n",
    "n=12\n",
    "r=0.08\n",
    "t=int(input(\"Numero de años: \"))\n",
    "print(\"A=\",P*(1+r/n)**(n*t))\n"
   ]
  },
  {
   "cell_type": "code",
   "execution_count": 15,
   "metadata": {},
   "outputs": [
    {
     "name": "stdout",
     "output_type": "stream",
     "text": [
      "Divisa (Peso o Dolar): qwe\n",
      "Cantidad de divisa: 2\n",
      "Divisa no valida\n"
     ]
    }
   ],
   "source": [
    "divisa=str(input(\"Divisa (Peso o Dolar): \"))\n",
    "cantidad= float(input(\"Cantidad de divisa: \"))\n",
    "if divisa==\"Dolar\":\n",
    "    print(\"Valor en pesos\", cantidad*18.95)\n",
    "elif divisa==\"Peso\":\n",
    "    print(\"Valor en dolares\", cantidad/18.95)\n",
    "else:\n",
    "    print(\"Divisa no valida\")\n",
    "    "
   ]
  },
  {
   "cell_type": "code",
   "execution_count": 12,
   "metadata": {},
   "outputs": [
    {
     "name": "stdout",
     "output_type": "stream",
     "text": [
      "Numero: 3\n",
      "3 es impar\n"
     ]
    }
   ],
   "source": [
    "numero=int(input(\"Numero: \"))\n",
    "if numero%2==0:\n",
    "    print(numero,\" es par\")\n",
    "else:\n",
    "    print(numero,\"es impar\")"
   ]
  },
  {
   "cell_type": "code",
   "execution_count": null,
   "metadata": {},
   "outputs": [],
   "source": []
  }
 ],
 "metadata": {
  "kernelspec": {
   "display_name": "Python 3",
   "language": "python",
   "name": "python3"
  },
  "language_info": {
   "codemirror_mode": {
    "name": "ipython",
    "version": 3
   },
   "file_extension": ".py",
   "mimetype": "text/x-python",
   "name": "python",
   "nbconvert_exporter": "python",
   "pygments_lexer": "ipython3",
   "version": "3.7.1"
  }
 },
 "nbformat": 4,
 "nbformat_minor": 2
}
