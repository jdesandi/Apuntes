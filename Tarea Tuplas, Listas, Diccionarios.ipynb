{
 "cells": [
  {
   "cell_type": "markdown",
   "metadata": {},
   "source": [
    "Programa que sume dos tuplas"
   ]
  },
  {
   "cell_type": "code",
   "execution_count": 14,
   "metadata": {},
   "outputs": [
    {
     "name": "stdout",
     "output_type": "stream",
     "text": [
      "7\n",
      "9\n",
      "11\n",
      "13\n",
      "15\n"
     ]
    }
   ],
   "source": [
    "tupla_a=(1,2,3,4,5)\n",
    "tupla_b=(6,7,8,9,10)\n",
    "for i in range(len(tupla_a)):\n",
    "    w= tupla_a[i]+tupla_b[i]\n",
    "    print (w)"
   ]
  },
  {
   "cell_type": "markdown",
   "metadata": {},
   "source": [
    "Producto punto de dos vectores"
   ]
  },
  {
   "cell_type": "code",
   "execution_count": 25,
   "metadata": {},
   "outputs": [
    {
     "name": "stdout",
     "output_type": "stream",
     "text": [
      "Coordenada x de vector A: 2\n",
      "Coordenada y de vector A: 2\n",
      "Coordenada z de vector A: 2\n",
      "vector A =  [2, 2, 2]\n",
      "Coordenada x de vector B: 3\n",
      "Coordenada y de vector B: 3\n",
      "Coordenada z de vector B: 3\n",
      "vector B =  [3, 3, 3]\n",
      "A.B =  [6, 6, 6]\n"
     ]
    }
   ],
   "source": [
    "x_a=int(input(\"Coordenada x de vector A: \"))\n",
    "y_a=int(input(\"Coordenada y de vector A: \"))\n",
    "z_a=int(input(\"Coordenada z de vector A: \"))\n",
    "vector_a=[x_a,y_a,z_a]\n",
    "print(\"vector A = \", vector_a)\n",
    "x_b=int(input(\"Coordenada x de vector B: \"))\n",
    "y_b=int(input(\"Coordenada y de vector B: \"))\n",
    "z_b=int(input(\"Coordenada z de vector B: \"))\n",
    "vector_b=[x_b,y_b,z_b]\n",
    "print(\"vector B = \", vector_b)\n",
    "vector_res=[]\n",
    "for x in range(len(vector_a)):\n",
    "    vector_res.insert(x,vector_a[x]*vector_b[x])\n",
    "print (\"A.B = \",vector_res)"
   ]
  },
  {
   "cell_type": "markdown",
   "metadata": {},
   "source": [
    "Encriptar un nombre"
   ]
  },
  {
   "cell_type": "code",
   "execution_count": 1,
   "metadata": {
    "scrolled": true
   },
   "outputs": [
    {
     "name": "stdout",
     "output_type": "stream",
     "text": [
      "nombre a encriptar: jorge\n"
     ]
    },
    {
     "data": {
      "text/plain": [
       "['j', 'o', 'r', 'g', 'e']"
      ]
     },
     "execution_count": 1,
     "metadata": {},
     "output_type": "execute_result"
    }
   ],
   "source": [
    "nombre=list(input(\"nombre a encriptar: \"))\n",
    "nombre\n"
   ]
  },
  {
   "cell_type": "code",
   "execution_count": null,
   "metadata": {},
   "outputs": [],
   "source": []
  }
 ],
 "metadata": {
  "kernelspec": {
   "display_name": "Python 3",
   "language": "python",
   "name": "python3"
  },
  "language_info": {
   "codemirror_mode": {
    "name": "ipython",
    "version": 3
   },
   "file_extension": ".py",
   "mimetype": "text/x-python",
   "name": "python",
   "nbconvert_exporter": "python",
   "pygments_lexer": "ipython3",
   "version": "3.7.1"
  }
 },
 "nbformat": 4,
 "nbformat_minor": 2
}
