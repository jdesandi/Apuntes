{
 "cells": [
  {
   "cell_type": "code",
   "execution_count": 1,
   "metadata": {},
   "outputs": [
    {
     "name": "stdout",
     "output_type": "stream",
     "text": [
      "Requirement already satisfied: mobilechelonian in d:\\archivos de programa\\anaconda3\\lib\\site-packages (0.5)\n",
      "Requirement already satisfied: IPython in d:\\archivos de programa\\anaconda3\\lib\\site-packages (from mobilechelonian) (7.2.0)\n",
      "Requirement already satisfied: ipywidgets>=7.0.0 in d:\\archivos de programa\\anaconda3\\lib\\site-packages (from mobilechelonian) (7.4.2)\n",
      "Requirement already satisfied: decorator in d:\\archivos de programa\\anaconda3\\lib\\site-packages (from IPython->mobilechelonian) (4.3.0)\n",
      "Requirement already satisfied: colorama; sys_platform == \"win32\" in d:\\archivos de programa\\anaconda3\\lib\\site-packages (from IPython->mobilechelonian) (0.4.1)\n",
      "Requirement already satisfied: traitlets>=4.2 in d:\\archivos de programa\\anaconda3\\lib\\site-packages (from IPython->mobilechelonian) (4.3.2)\n",
      "Requirement already satisfied: pickleshare in d:\\archivos de programa\\anaconda3\\lib\\site-packages (from IPython->mobilechelonian) (0.7.5)\n",
      "Requirement already satisfied: backcall in d:\\archivos de programa\\anaconda3\\lib\\site-packages (from IPython->mobilechelonian) (0.1.0)\n",
      "Requirement already satisfied: pygments in d:\\archivos de programa\\anaconda3\\lib\\site-packages (from IPython->mobilechelonian) (2.3.1)\n",
      "Requirement already satisfied: prompt-toolkit<2.1.0,>=2.0.0 in d:\\archivos de programa\\anaconda3\\lib\\site-packages (from IPython->mobilechelonian) (2.0.7)\n",
      "Requirement already satisfied: setuptools>=18.5 in d:\\archivos de programa\\anaconda3\\lib\\site-packages (from IPython->mobilechelonian) (40.6.3)\n",
      "Requirement already satisfied: jedi>=0.10 in d:\\archivos de programa\\anaconda3\\lib\\site-packages (from IPython->mobilechelonian) (0.13.2)\n",
      "Requirement already satisfied: nbformat>=4.2.0 in d:\\archivos de programa\\anaconda3\\lib\\site-packages (from ipywidgets>=7.0.0->mobilechelonian) (4.4.0)\n",
      "Requirement already satisfied: widgetsnbextension~=3.4.0 in d:\\archivos de programa\\anaconda3\\lib\\site-packages (from ipywidgets>=7.0.0->mobilechelonian) (3.4.2)\n",
      "Requirement already satisfied: ipykernel>=4.5.1 in d:\\archivos de programa\\anaconda3\\lib\\site-packages (from ipywidgets>=7.0.0->mobilechelonian) (5.1.0)\n",
      "Requirement already satisfied: ipython-genutils in d:\\archivos de programa\\anaconda3\\lib\\site-packages (from traitlets>=4.2->IPython->mobilechelonian) (0.2.0)\n",
      "Requirement already satisfied: six in d:\\archivos de programa\\anaconda3\\lib\\site-packages (from traitlets>=4.2->IPython->mobilechelonian) (1.12.0)\n",
      "Requirement already satisfied: wcwidth in d:\\archivos de programa\\anaconda3\\lib\\site-packages (from prompt-toolkit<2.1.0,>=2.0.0->IPython->mobilechelonian) (0.1.7)\n",
      "Requirement already satisfied: parso>=0.3.0 in d:\\archivos de programa\\anaconda3\\lib\\site-packages (from jedi>=0.10->IPython->mobilechelonian) (0.3.1)\n",
      "Requirement already satisfied: jupyter-core in d:\\archivos de programa\\anaconda3\\lib\\site-packages (from nbformat>=4.2.0->ipywidgets>=7.0.0->mobilechelonian) (4.4.0)\n",
      "Requirement already satisfied: jsonschema!=2.5.0,>=2.4 in d:\\archivos de programa\\anaconda3\\lib\\site-packages (from nbformat>=4.2.0->ipywidgets>=7.0.0->mobilechelonian) (2.6.0)\n",
      "Requirement already satisfied: notebook>=4.4.1 in d:\\archivos de programa\\anaconda3\\lib\\site-packages (from widgetsnbextension~=3.4.0->ipywidgets>=7.0.0->mobilechelonian) (5.7.4)\n",
      "Requirement already satisfied: tornado>=4.2 in d:\\archivos de programa\\anaconda3\\lib\\site-packages (from ipykernel>=4.5.1->ipywidgets>=7.0.0->mobilechelonian) (5.1.1)\n",
      "Requirement already satisfied: jupyter-client in d:\\archivos de programa\\anaconda3\\lib\\site-packages (from ipykernel>=4.5.1->ipywidgets>=7.0.0->mobilechelonian) (5.2.4)\n",
      "Requirement already satisfied: terminado>=0.8.1 in d:\\archivos de programa\\anaconda3\\lib\\site-packages (from notebook>=4.4.1->widgetsnbextension~=3.4.0->ipywidgets>=7.0.0->mobilechelonian) (0.8.1)\n",
      "Requirement already satisfied: Send2Trash in d:\\archivos de programa\\anaconda3\\lib\\site-packages (from notebook>=4.4.1->widgetsnbextension~=3.4.0->ipywidgets>=7.0.0->mobilechelonian) (1.5.0)\n",
      "Requirement already satisfied: nbconvert in d:\\archivos de programa\\anaconda3\\lib\\site-packages (from notebook>=4.4.1->widgetsnbextension~=3.4.0->ipywidgets>=7.0.0->mobilechelonian) (5.4.0)\n",
      "Requirement already satisfied: jinja2 in d:\\archivos de programa\\anaconda3\\lib\\site-packages (from notebook>=4.4.1->widgetsnbextension~=3.4.0->ipywidgets>=7.0.0->mobilechelonian) (2.10)\n",
      "Requirement already satisfied: pyzmq>=17 in d:\\archivos de programa\\anaconda3\\lib\\site-packages (from notebook>=4.4.1->widgetsnbextension~=3.4.0->ipywidgets>=7.0.0->mobilechelonian) (17.1.2)\n",
      "Requirement already satisfied: prometheus-client in d:\\archivos de programa\\anaconda3\\lib\\site-packages (from notebook>=4.4.1->widgetsnbextension~=3.4.0->ipywidgets>=7.0.0->mobilechelonian) (0.5.0)\n",
      "Requirement already satisfied: python-dateutil>=2.1 in d:\\archivos de programa\\anaconda3\\lib\\site-packages (from jupyter-client->ipykernel>=4.5.1->ipywidgets>=7.0.0->mobilechelonian) (2.7.5)\n",
      "Requirement already satisfied: mistune>=0.8.1 in d:\\archivos de programa\\anaconda3\\lib\\site-packages (from nbconvert->notebook>=4.4.1->widgetsnbextension~=3.4.0->ipywidgets>=7.0.0->mobilechelonian) (0.8.4)\n",
      "Requirement already satisfied: entrypoints>=0.2.2 in d:\\archivos de programa\\anaconda3\\lib\\site-packages (from nbconvert->notebook>=4.4.1->widgetsnbextension~=3.4.0->ipywidgets>=7.0.0->mobilechelonian) (0.2.3)\n",
      "Requirement already satisfied: bleach in d:\\archivos de programa\\anaconda3\\lib\\site-packages (from nbconvert->notebook>=4.4.1->widgetsnbextension~=3.4.0->ipywidgets>=7.0.0->mobilechelonian) (3.0.2)\n",
      "Requirement already satisfied: pandocfilters>=1.4.1 in d:\\archivos de programa\\anaconda3\\lib\\site-packages (from nbconvert->notebook>=4.4.1->widgetsnbextension~=3.4.0->ipywidgets>=7.0.0->mobilechelonian) (1.4.2)\n",
      "Requirement already satisfied: testpath in d:\\archivos de programa\\anaconda3\\lib\\site-packages (from nbconvert->notebook>=4.4.1->widgetsnbextension~=3.4.0->ipywidgets>=7.0.0->mobilechelonian) (0.4.2)\n",
      "Requirement already satisfied: defusedxml in d:\\archivos de programa\\anaconda3\\lib\\site-packages (from nbconvert->notebook>=4.4.1->widgetsnbextension~=3.4.0->ipywidgets>=7.0.0->mobilechelonian) (0.5.0)\n",
      "Requirement already satisfied: MarkupSafe>=0.23 in d:\\archivos de programa\\anaconda3\\lib\\site-packages (from jinja2->notebook>=4.4.1->widgetsnbextension~=3.4.0->ipywidgets>=7.0.0->mobilechelonian) (1.1.0)\n",
      "Requirement already satisfied: webencodings in d:\\archivos de programa\\anaconda3\\lib\\site-packages (from bleach->nbconvert->notebook>=4.4.1->widgetsnbextension~=3.4.0->ipywidgets>=7.0.0->mobilechelonian) (0.5.1)\n"
     ]
    }
   ],
   "source": [
    "!pip install mobilechelonian"
   ]
  },
  {
   "cell_type": "code",
   "execution_count": 2,
   "metadata": {},
   "outputs": [],
   "source": [
    "from mobilechelonian import Turtle"
   ]
  },
  {
   "cell_type": "code",
   "execution_count": 3,
   "metadata": {},
   "outputs": [
    {
     "data": {
      "application/vnd.jupyter.widget-view+json": {
       "model_id": "0a8a3f83b86840859594f3fc4150a125",
       "version_major": 2,
       "version_minor": 0
      },
      "text/plain": [
       "Turtle()"
      ]
     },
     "metadata": {},
     "output_type": "display_data"
    }
   ],
   "source": [
    "t=Turtle()\n",
    "t.speed(5)\n",
    "colours=[\"red\",\"blue\",\"yellow\",\"brown\",\"black\",\"purple\",\"green\"]\n",
    "#t.penup();t.left(90);t.forward(200);t.right(90);t.pendown()\n",
    "#for i in range (0,18):\n",
    "#   t.pencolor(colours[i%7])\n",
    "#  t.right(20)\n",
    "# t.forward(50)\n",
    "    \n",
    "#t.right(180)\n",
    "#t.home()\n",
    "t.pendown(); t.left(90);t.forward(15);t.right(180);t.forward(30)"
   ]
  },
  {
   "cell_type": "markdown",
   "metadata": {},
   "source": [
    "Suma de 2 vectores"
   ]
  },
  {
   "cell_type": "code",
   "execution_count": 4,
   "metadata": {},
   "outputs": [
    {
     "data": {
      "text/plain": [
       "[7, 10, 12, 25, 28]"
      ]
     },
     "execution_count": 4,
     "metadata": {},
     "output_type": "execute_result"
    }
   ],
   "source": [
    "vector1=[2,3,4,11,13]\n",
    "vector2=[5,7,8,14,15]\n",
    "suma=[]\n",
    "for i in range(len(vector1)):\n",
    "    suma.append(vector1[i]+vector2[i])\n",
    "suma"
   ]
  },
  {
   "cell_type": "code",
   "execution_count": 5,
   "metadata": {},
   "outputs": [],
   "source": [
    "import numpy as np"
   ]
  },
  {
   "cell_type": "code",
   "execution_count": 6,
   "metadata": {},
   "outputs": [
    {
     "name": "stdout",
     "output_type": "stream",
     "text": [
      "[ 6  7 10]\n"
     ]
    }
   ],
   "source": [
    "x=np.array([2,1,3])\n",
    "y=np.array([4,6,7])\n",
    "print(x+y)"
   ]
  },
  {
   "cell_type": "code",
   "execution_count": 7,
   "metadata": {},
   "outputs": [
    {
     "data": {
      "text/plain": [
       "35"
      ]
     },
     "execution_count": 7,
     "metadata": {},
     "output_type": "execute_result"
    }
   ],
   "source": [
    "dot_product=0\n",
    "for i in range(len(x)):\n",
    "    dot_product=dot_product+(x[i]*y[i])\n",
    "dot_product"
   ]
  },
  {
   "cell_type": "code",
   "execution_count": 8,
   "metadata": {},
   "outputs": [
    {
     "data": {
      "text/plain": [
       "35"
      ]
     },
     "execution_count": 8,
     "metadata": {},
     "output_type": "execute_result"
    }
   ],
   "source": [
    "sum(x*y)"
   ]
  },
  {
   "cell_type": "code",
   "execution_count": 9,
   "metadata": {},
   "outputs": [
    {
     "data": {
      "text/plain": [
       "35"
      ]
     },
     "execution_count": 9,
     "metadata": {},
     "output_type": "execute_result"
    }
   ],
   "source": [
    "x.dot(y)"
   ]
  },
  {
   "cell_type": "code",
   "execution_count": 10,
   "metadata": {},
   "outputs": [
    {
     "data": {
      "text/plain": [
       "35"
      ]
     },
     "execution_count": 10,
     "metadata": {},
     "output_type": "execute_result"
    }
   ],
   "source": [
    "x@y"
   ]
  },
  {
   "cell_type": "code",
   "execution_count": 11,
   "metadata": {},
   "outputs": [
    {
     "name": "stdout",
     "output_type": "stream",
     "text": [
      "[[1 2 3]\n",
      " [4 5 6]\n",
      " [7 8 9]]\n",
      "[[5 4 6]\n",
      " [7 2 1]\n",
      " [5 2 9]]\n"
     ]
    }
   ],
   "source": [
    "A=np.array([[1,2,3],[4,5,6],[7,8,9]])\n",
    "B=np.array([[5,4,6],[7,2,1],[5,2,9]])\n",
    "print(A)\n",
    "print(B)\n"
   ]
  },
  {
   "cell_type": "code",
   "execution_count": 12,
   "metadata": {},
   "outputs": [
    {
     "data": {
      "text/plain": [
       "array([[ 6,  6,  9],\n",
       "       [11,  7,  7],\n",
       "       [12, 10, 18]])"
      ]
     },
     "execution_count": 12,
     "metadata": {},
     "output_type": "execute_result"
    }
   ],
   "source": [
    "A+B"
   ]
  },
  {
   "cell_type": "code",
   "execution_count": 13,
   "metadata": {},
   "outputs": [
    {
     "data": {
      "text/plain": [
       "array([[ 5,  8, 18],\n",
       "       [28, 10,  6],\n",
       "       [35, 16, 81]])"
      ]
     },
     "execution_count": 13,
     "metadata": {},
     "output_type": "execute_result"
    }
   ],
   "source": [
    "A*B\n",
    "#elemento a elemento"
   ]
  },
  {
   "cell_type": "code",
   "execution_count": 14,
   "metadata": {},
   "outputs": [
    {
     "data": {
      "text/plain": [
       "array([[ 34,  14,  35],\n",
       "       [ 85,  38,  83],\n",
       "       [136,  62, 131]])"
      ]
     },
     "execution_count": 14,
     "metadata": {},
     "output_type": "execute_result"
    }
   ],
   "source": [
    "A@B\n",
    "#producto punto"
   ]
  },
  {
   "cell_type": "code",
   "execution_count": 15,
   "metadata": {},
   "outputs": [
    {
     "data": {
      "text/plain": [
       "(3, 3)"
      ]
     },
     "execution_count": 15,
     "metadata": {},
     "output_type": "execute_result"
    }
   ],
   "source": [
    "A.shape"
   ]
  },
  {
   "cell_type": "code",
   "execution_count": 16,
   "metadata": {},
   "outputs": [
    {
     "name": "stdout",
     "output_type": "stream",
     "text": [
      "[[1 2 3]\n",
      " [4 5 6]\n",
      " [7 8 9]]\n"
     ]
    }
   ],
   "source": [
    "print (np.arange(1,10).reshape(3,3))"
   ]
  },
  {
   "cell_type": "markdown",
   "metadata": {},
   "source": [
    "Sistema de ecuaciones lineales\n",
    "x+2y=1\n",
    "3x+y=5"
   ]
  },
  {
   "cell_type": "code",
   "execution_count": 17,
   "metadata": {},
   "outputs": [
    {
     "data": {
      "text/plain": [
       "array([[3.],\n",
       "       [1.]])"
      ]
     },
     "execution_count": 17,
     "metadata": {},
     "output_type": "execute_result"
    }
   ],
   "source": [
    "S=np.array([[1,-2],[3,2]])\n",
    "R=np.array([[1],[11]])\n",
    "X=np.linalg.inv(S)@R\n",
    "X"
   ]
  },
  {
   "cell_type": "code",
   "execution_count": 18,
   "metadata": {},
   "outputs": [
    {
     "data": {
      "text/plain": [
       "array([[-1.11022302e-16],\n",
       "       [-6.93889390e-17],\n",
       "       [ 2.00000000e+00]])"
      ]
     },
     "execution_count": 18,
     "metadata": {},
     "output_type": "execute_result"
    }
   ],
   "source": [
    "S=np.array([[1,2,3],[2,5,2],[6,-3,1]])\n",
    "R=np.array([[6],[4],[2]])\n",
    "X=np.linalg.inv(S)@R\n",
    "X"
   ]
  },
  {
   "cell_type": "code",
   "execution_count": null,
   "metadata": {},
   "outputs": [],
   "source": []
  }
 ],
 "metadata": {
  "kernelspec": {
   "display_name": "Python 3",
   "language": "python",
   "name": "python3"
  },
  "language_info": {
   "codemirror_mode": {
    "name": "ipython",
    "version": 3
   },
   "file_extension": ".py",
   "mimetype": "text/x-python",
   "name": "python",
   "nbconvert_exporter": "python",
   "pygments_lexer": "ipython3",
   "version": "3.7.1"
  }
 },
 "nbformat": 4,
 "nbformat_minor": 2
}
